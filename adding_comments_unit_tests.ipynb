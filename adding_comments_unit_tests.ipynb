{
  "nbformat": 4,
  "nbformat_minor": 0,
  "metadata": {
    "colab": {
      "provenance": [],
      "include_colab_link": true
    },
    "kernelspec": {
      "name": "python3",
      "display_name": "Python 3"
    },
    "language_info": {
      "name": "python"
    }
  },
  "cells": [
    {
      "cell_type": "markdown",
      "metadata": {
        "id": "view-in-github",
        "colab_type": "text"
      },
      "source": [
        "<a href=\"https://colab.research.google.com/github/ketul-kothari/Open_AI_training_hackathon/blob/main/adding_comments_unit_tests.ipynb\" target=\"_parent\"><img src=\"https://colab.research.google.com/assets/colab-badge.svg\" alt=\"Open In Colab\"/></a>"
      ]
    },
    {
      "cell_type": "code",
      "execution_count": null,
      "metadata": {
        "colab": {
          "base_uri": "https://localhost:8080/"
        },
        "id": "iiO0rf3lwQDh",
        "outputId": "07a659eb-6a6a-4cce-a356-babb3d01e4a5"
      },
      "outputs": [
        {
          "output_type": "stream",
          "name": "stdout",
          "text": [
            "Created file: commments.txt\n"
          ]
        }
      ],
      "source": [
        "# Creating an empty text file named commments.txt\n",
        "file_name = 'commments.txt'\n",
        "\n",
        "with open(file_name, 'w') as file:\n",
        "    pass\n",
        "\n",
        "print(f\"Created file: {file_name}\")"
      ]
    },
    {
      "cell_type": "code",
      "source": [
        "!pip install openai==1.13.3"
      ],
      "metadata": {
        "colab": {
          "base_uri": "https://localhost:8080/"
        },
        "id": "EgEAZQgNxYBD",
        "outputId": "1651c3d1-6472-4189-a1af-1f44ae4af1fe"
      },
      "execution_count": null,
      "outputs": [
        {
          "output_type": "stream",
          "name": "stdout",
          "text": [
            "Requirement already satisfied: openai==1.13.3 in /usr/local/lib/python3.10/dist-packages (1.13.3)\n",
            "Requirement already satisfied: anyio<5,>=3.5.0 in /usr/local/lib/python3.10/dist-packages (from openai==1.13.3) (3.7.1)\n",
            "Requirement already satisfied: distro<2,>=1.7.0 in /usr/local/lib/python3.10/dist-packages (from openai==1.13.3) (1.9.0)\n",
            "Requirement already satisfied: httpx<1,>=0.23.0 in /usr/local/lib/python3.10/dist-packages (from openai==1.13.3) (0.27.2)\n",
            "Requirement already satisfied: pydantic<3,>=1.9.0 in /usr/local/lib/python3.10/dist-packages (from openai==1.13.3) (2.9.2)\n",
            "Requirement already satisfied: sniffio in /usr/local/lib/python3.10/dist-packages (from openai==1.13.3) (1.3.1)\n",
            "Requirement already satisfied: tqdm>4 in /usr/local/lib/python3.10/dist-packages (from openai==1.13.3) (4.66.6)\n",
            "Requirement already satisfied: typing-extensions<5,>=4.7 in /usr/local/lib/python3.10/dist-packages (from openai==1.13.3) (4.12.2)\n",
            "Requirement already satisfied: idna>=2.8 in /usr/local/lib/python3.10/dist-packages (from anyio<5,>=3.5.0->openai==1.13.3) (3.10)\n",
            "Requirement already satisfied: exceptiongroup in /usr/local/lib/python3.10/dist-packages (from anyio<5,>=3.5.0->openai==1.13.3) (1.2.2)\n",
            "Requirement already satisfied: certifi in /usr/local/lib/python3.10/dist-packages (from httpx<1,>=0.23.0->openai==1.13.3) (2024.8.30)\n",
            "Requirement already satisfied: httpcore==1.* in /usr/local/lib/python3.10/dist-packages (from httpx<1,>=0.23.0->openai==1.13.3) (1.0.6)\n",
            "Requirement already satisfied: h11<0.15,>=0.13 in /usr/local/lib/python3.10/dist-packages (from httpcore==1.*->httpx<1,>=0.23.0->openai==1.13.3) (0.14.0)\n",
            "Requirement already satisfied: annotated-types>=0.6.0 in /usr/local/lib/python3.10/dist-packages (from pydantic<3,>=1.9.0->openai==1.13.3) (0.7.0)\n",
            "Requirement already satisfied: pydantic-core==2.23.4 in /usr/local/lib/python3.10/dist-packages (from pydantic<3,>=1.9.0->openai==1.13.3) (2.23.4)\n"
          ]
        }
      ]
    },
    {
      "cell_type": "code",
      "source": [
        "import asyncio\n",
        "from openai import AsyncAzureOpenAI"
      ],
      "metadata": {
        "id": "hStZ5bO9xpYS"
      },
      "execution_count": null,
      "outputs": []
    },
    {
      "cell_type": "code",
      "source": [
        "# Set to True to print the full response from OpenAI for each call\n",
        "printFullResponse = False\n",
        "\n",
        "async def main():\n",
        "  try:\n",
        "        # Get configuration settings\n",
        "        # Configuration settings\n",
        "        azure_oai_endpoint = \"https://eygroup2.openai.azure.com/\"\n",
        "        azure_oai_key = \"\"\n",
        "        azure_oai_deployment = \"myturbomodel\"\n",
        "\n",
        "        # Configure the Azure OpenAI client\n",
        "        client = AsyncAzureOpenAI(\n",
        "            azure_endpoint = azure_oai_endpoint,\n",
        "            api_key=azure_oai_key,\n",
        "            api_version=\"2024-02-15-preview\"\n",
        "        )\n",
        "\n",
        "        # Add comments to the code\n",
        "        file = open(file=\"hackathon_notebook_comments_test_case.txt\", encoding=\"utf8\").read()\n",
        "        prompt = \"provide comments and unit test cases for the code below: \" + file\n",
        "        await call_openai_model(prompt, model=azure_oai_deployment, client=client)\n",
        "\n",
        "  except Exception as ex:\n",
        "        print(ex)"
      ],
      "metadata": {
        "id": "3PpJK8Oxxp6r"
      },
      "execution_count": null,
      "outputs": []
    },
    {
      "cell_type": "code",
      "source": [
        "async def call_openai_model(prompt, model, client):\n",
        "    # Provide a basic user message, and use the prompt content as the user message\n",
        "    system_message = \"You are a helpful AI assistant that helps programmers write code.\"\n",
        "    user_message = prompt\n",
        "\n",
        "    # Format and send the request to the model\n",
        "    messages =[\n",
        "        {\"role\": \"system\", \"content\": system_message},\n",
        "        {\"role\": \"user\", \"content\": user_message},\n",
        "    ]\n",
        "\n",
        "    # Call the Azure OpenAI model\n",
        "    response = await client.chat.completions.create(\n",
        "        model=model,\n",
        "        messages=messages,\n",
        "        temperature=0.7,\n",
        "        max_tokens=1000\n",
        "    )\n",
        "\n",
        "    # Print the response to the console, if desired\n",
        "    if printFullResponse:\n",
        "        print(response)\n",
        "\n",
        "    # Write the response to a file\n",
        "    results_file = open(file=\"commments.txt\", mode=\"w\", encoding=\"utf8\")\n",
        "    results_file.write(response.choices[0].message.content)\n",
        "    print(\"\\nResponse written to result/commments.txt\\n\\n\")"
      ],
      "metadata": {
        "id": "whFax9V0yXLC"
      },
      "execution_count": null,
      "outputs": []
    },
    {
      "cell_type": "code",
      "source": [
        "# Run the main function in the event loop\n",
        "await main()"
      ],
      "metadata": {
        "colab": {
          "base_uri": "https://localhost:8080/"
        },
        "id": "M8gfD0FSyZQl",
        "outputId": "c6767df8-8499-48c7-b517-351016140eb6"
      },
      "execution_count": null,
      "outputs": [
        {
          "output_type": "stream",
          "name": "stdout",
          "text": [
            "\n",
            "Response written to result/commments.txt\n",
            "\n",
            "\n"
          ]
        }
      ]
    },
    {
      "cell_type": "code",
      "source": [],
      "metadata": {
        "id": "0yyzZ4m0zwQ0"
      },
      "execution_count": null,
      "outputs": []
    }
  ]
}